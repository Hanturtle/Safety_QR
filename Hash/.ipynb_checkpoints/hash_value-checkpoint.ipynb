{
 "cells": [
  {
   "cell_type": "code",
   "execution_count": 2,
   "metadata": {},
   "outputs": [],
   "source": [
    "import hashlib\n",
    "import os"
   ]
  },
  {
   "cell_type": "code",
   "execution_count": 3,
   "metadata": {},
   "outputs": [],
   "source": [
    "f = open(\"pmj.txt\", 'rb')\n",
    "data = f.read()\n",
    "f.close()\n",
    "\n",
    "hash_md5 = hashlib.md5()\n",
    "hash_sha1 = hashlib.sha1()\n",
    "hash_sha256 = hashlib.sha256()\n",
    "\n",
    "hash_md5.update(data)\n",
    "hash_sha1.update(data)\n",
    "hash_sha256.update(data)\n",
    "\n",
    "md5 = hash_md5.hexdigest()\n",
    "sha1 = hash_sha1.hexdigest()\n",
    "sha256 = hash_sha256.hexdigest()"
   ]
  },
  {
   "cell_type": "code",
   "execution_count": 9,
   "metadata": {},
   "outputs": [
    {
     "name": "stdout",
     "output_type": "stream",
     "text": [
      "b'1204'\n"
     ]
    }
   ],
   "source": [
    "print(data)"
   ]
  },
  {
   "cell_type": "code",
   "execution_count": 10,
   "metadata": {},
   "outputs": [
    {
     "name": "stdout",
     "output_type": "stream",
     "text": [
      "fb2fcd534b0ff3bbed73cc51df620323\n"
     ]
    }
   ],
   "source": [
    "print(md5)"
   ]
  },
  {
   "cell_type": "code",
   "execution_count": 11,
   "metadata": {},
   "outputs": [
    {
     "name": "stdout",
     "output_type": "stream",
     "text": [
      "78ae9f6e6a12a1af3c5a87f0f649f73aa2b4c7be\n"
     ]
    }
   ],
   "source": [
    "print(sha1)"
   ]
  },
  {
   "cell_type": "code",
   "execution_count": 12,
   "metadata": {},
   "outputs": [
    {
     "name": "stdout",
     "output_type": "stream",
     "text": [
      "0af7d7158becc6d02dc41536107090e77195cf90c556cadb37866528cc94e8a9\n"
     ]
    }
   ],
   "source": [
    "print(sha256)"
   ]
  },
  {
   "cell_type": "code",
   "execution_count": 8,
   "metadata": {},
   "outputs": [],
   "source": [
    "os.remove(\"pmj.txt\")"
   ]
  }
 ],
 "metadata": {
  "kernelspec": {
   "display_name": "Python 3",
   "language": "python",
   "name": "python3"
  },
  "language_info": {
   "codemirror_mode": {
    "name": "ipython",
    "version": 3
   },
   "file_extension": ".py",
   "mimetype": "text/x-python",
   "name": "python",
   "nbconvert_exporter": "python",
   "pygments_lexer": "ipython3",
   "version": "3.8.5"
  }
 },
 "nbformat": 4,
 "nbformat_minor": 4
}
