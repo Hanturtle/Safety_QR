{
 "cells": [
  {
   "cell_type": "code",
   "execution_count": 13,
   "metadata": {},
   "outputs": [
    {
     "name": "stdout",
     "output_type": "stream",
     "text": [
      "<Response [200]>\n"
     ]
    }
   ],
   "source": [
    "import requests\n",
    "\n",
    "url = 'https://www.virustotal.com/vtapi/v2/file/report'\n",
    "mykey = '5b515349e942c36fdb06b793b6fe2f7f0841926a181db41654e996046d0e745c'\n",
    "MD5 = \"E3959205680C393688204BB538DE523C\"\n",
    "\n",
    "params = {'apikey': mykey, 'resource': MD5}\n",
    "response = requests.get(url, params=params)\n",
    "\n",
    "print(response)"
   ]
  },
  {
   "cell_type": "code",
   "execution_count": 2,
   "metadata": {
    "scrolled": true
   },
   "outputs": [
    {
     "name": "stdout",
     "output_type": "stream",
     "text": [
      "{'scans': {'Bkav': {'detected': False, 'version': '1.3.0.9899', 'result': None, 'update': '20210424'}, 'Elastic': {'detected': True, 'version': '4.0.21', 'result': 'malicious (high confidence)', 'update': '20210420'}, 'MicroWorld-eScan': {'detected': True, 'version': '14.0.409.0', 'result': 'Trojan.GenericKD.36688148', 'update': '20210425'}, 'FireEye': {'detected': True, 'version': '32.44.1.0', 'result': 'Trojan.GenericKD.36688148', 'update': '20210425'}, 'CAT-QuickHeal': {'detected': False, 'version': '14.00', 'result': None, 'update': '20210424'}, 'ALYac': {'detected': True, 'version': '1.1.3.1', 'result': 'Trojan.GenericKD.36688148', 'update': '20210425'}, 'Malwarebytes': {'detected': True, 'version': '4.2.2.27', 'result': 'Spyware.RedLineStealer', 'update': '20210425'}, 'Zillya': {'detected': False, 'version': '2.0.0.4349', 'result': None, 'update': '20210423'}, 'SUPERAntiSpyware': {'detected': False, 'version': '5.6.0.1032', 'result': None, 'update': '20210423'}, 'K7AntiVirus': {'detected': True, 'version': '11.178.37025', 'result': 'Trojan ( 0057a57b1 )', 'update': '20210425'}, 'Alibaba': {'detected': True, 'version': '0.3.0.5', 'result': 'TrojanPSW:MSIL/Kryptik.977161fe', 'update': '20190527'}, 'K7GW': {'detected': True, 'version': '11.178.37025', 'result': 'Trojan ( 0057a57b1 )', 'update': '20210425'}, 'Cybereason': {'detected': True, 'version': '1.2.449', 'result': 'malicious.dfa8fd', 'update': '20210330'}, 'Arcabit': {'detected': False, 'version': '1.0.0.886', 'result': None, 'update': '20210425'}, 'BitDefenderTheta': {'detected': False, 'version': '7.2.37796.0', 'result': None, 'update': '20210414'}, 'Babable': {'detected': False, 'version': '9107201', 'result': None, 'update': '20190424'}, 'Cyren': {'detected': False, 'version': '6.3.0.2', 'result': None, 'update': '20210425'}, 'Symantec': {'detected': True, 'version': '1.14.0.0', 'result': 'Trojan.Gen.2', 'update': '20210424'}, 'ESET-NOD32': {'detected': True, 'version': '23188', 'result': 'a variant of MSIL/Kryptik.AAHQ', 'update': '20210424'}, 'Baidu': {'detected': False, 'version': '1.0.0.2', 'result': None, 'update': '20190318'}, 'APEX': {'detected': False, 'version': '6.156', 'result': None, 'update': '20210422'}, 'Avast': {'detected': True, 'version': '21.1.5827.0', 'result': 'Win32:MalwareX-gen [Trj]', 'update': '20210425'}, 'Cynet': {'detected': True, 'version': '4.0.0.27', 'result': 'Malicious (score: 99)', 'update': '20210412'}, 'BitDefender': {'detected': True, 'version': '7.2', 'result': 'Trojan.GenericKD.36688148', 'update': '20210425'}, 'NANO-Antivirus': {'detected': True, 'version': '1.0.146.25279', 'result': 'Trojan.Win32.Coins.iuelrd', 'update': '20210425'}, 'Paloalto': {'detected': False, 'version': '1.0', 'result': None, 'update': '20210425'}, 'ViRobot': {'detected': False, 'version': '2014.3.20.0', 'result': None, 'update': '20210424'}, 'Tencent': {'detected': False, 'version': '1.0.0.1', 'result': None, 'update': '20210425'}, 'Ad-Aware': {'detected': True, 'version': '3.0.16.117', 'result': 'Trojan.GenericKD.36688148', 'update': '20210425'}, 'Sophos': {'detected': True, 'version': '1.0.2.0', 'result': 'Mal/Generic-S (PUA)', 'update': '20210424'}, 'Comodo': {'detected': True, 'version': '33468', 'result': 'Malware@#1l8u05miif1j9', 'update': '20210424'}, 'F-Secure': {'detected': False, 'version': '12.0.86.52', 'result': None, 'update': '20210331'}, 'DrWeb': {'detected': True, 'version': '7.0.49.9080', 'result': 'Trojan.PWS.Steam.19278', 'update': '20210425'}, 'VIPRE': {'detected': True, 'version': '92080', 'result': 'Trojan.Win32.Generic!BT', 'update': '20210425'}, 'TrendMicro': {'detected': False, 'version': '11.0.0.1006', 'result': None, 'update': '20210330'}, 'CMC': {'detected': False, 'version': '2.10.2019.1', 'result': None, 'update': '20210327'}, 'Emsisoft': {'detected': True, 'version': '2018.12.0.1641', 'result': 'Trojan.Crypt (A)', 'update': '20210425'}, 'SentinelOne': {'detected': True, 'version': '5.0.0.20', 'result': 'Static AI - Malicious PE', 'update': '20210215'}, 'F-Prot': {'detected': False, 'version': '4.7.1.166', 'result': None, 'update': '20210425'}, 'Jiangmin': {'detected': False, 'version': '16.0.100', 'result': None, 'update': '20210424'}, 'Webroot': {'detected': False, 'version': '1.0.0.403', 'result': None, 'update': '20210425'}, 'Avira': {'detected': True, 'version': '8.3.3.12', 'result': 'TR/Kryptik.vmguc', 'update': '20210425'}, 'MAX': {'detected': False, 'version': '2019.9.16.1', 'result': None, 'update': '20210425'}, 'Antiy-AVL': {'detected': False, 'version': '3.0.0.1', 'result': None, 'update': '20210425'}, 'Kingsoft': {'detected': True, 'version': '2017.9.26.565', 'result': 'Win32.PSWTroj.Undef.(kcloud)', 'update': '20210425'}, 'Gridinsoft': {'detected': True, 'version': '1.0.38.130', 'result': 'Trojan.Win32.Kryptik.oa', 'update': '20210425'}, 'Microsoft': {'detected': True, 'version': '1.1.18000.5', 'result': 'Trojan:Win32/AgentTesla!ml', 'update': '20210425'}, 'AegisLab': {'detected': True, 'version': '4.2', 'result': 'Trojan.MSIL.Coins.i!c', 'update': '20210425'}, 'ZoneAlarm': {'detected': True, 'version': '1.0', 'result': 'HEUR:Trojan-PSW.MSIL.Coins.gen', 'update': '20210425'}, 'GData': {'detected': True, 'version': 'A:25.29433B:27.22782', 'result': 'Trojan.GenericKD.36688148', 'update': '20210425'}, 'AhnLab-V3': {'detected': True, 'version': '3.19.7.10132', 'result': 'Trojan/Win.CoinStealer.C4413254', 'update': '20210425'}, 'Acronis': {'detected': False, 'version': '1.1.1.81', 'result': None, 'update': '20210211'}, 'McAfee': {'detected': True, 'version': '6.0.6.653', 'result': 'Artemis!BFCA5D2DDD88', 'update': '20210425'}, 'TACHYON': {'detected': False, 'version': '2021-04-25.01', 'result': None, 'update': '20210425'}, 'VBA32': {'detected': True, 'version': '5.0.0', 'result': 'TScope.Trojan.MSIL', 'update': '20210423'}, 'Cylance': {'detected': True, 'version': '2.3.1.101', 'result': 'Unsafe', 'update': '20210425'}, 'Zoner': {'detected': False, 'version': '0.0.0.0', 'result': None, 'update': '20210424'}, 'TrendMicro-HouseCall': {'detected': True, 'version': '10.0.0.1040', 'result': 'Backdoor.MSIL.COINS.USMANDD21', 'update': '20210425'}, 'Rising': {'detected': True, 'version': '25.0.0.26', 'result': 'Trojan.Kryptik!8.8 (CLOUD)', 'update': '20210425'}, 'Yandex': {'detected': True, 'version': '5.5.2.24', 'result': 'Trojan.Igent.bVGodi.30', 'update': '20210423'}, 'Ikarus': {'detected': True, 'version': '0.1.5.2', 'result': 'Trojan.MSIL.Crypt', 'update': '20210424'}, 'MaxSecure': {'detected': False, 'version': '1.0.0.1', 'result': None, 'update': '20210423'}, 'Fortinet': {'detected': True, 'version': '6.2.142.0', 'result': 'MSIL/Kryptik.AAHQ!tr', 'update': '20210425'}, 'AVG': {'detected': True, 'version': '21.1.5827.0', 'result': 'Win32:MalwareX-gen [Trj]', 'update': '20210425'}, 'Panda': {'detected': True, 'version': '4.6.4.2', 'result': 'Trj/GdSda.A', 'update': '20210424'}, 'CrowdStrike': {'detected': True, 'version': '1.0', 'result': 'win/malicious_confidence_100% (W)', 'update': '20210203'}, 'Qihoo-360': {'detected': False, 'version': '1.0.0.1120', 'result': None, 'update': '20210425'}}, 'scan_id': 'ef1bc7566ce113d6af42b9eecc63f0b69b3eeebcc2896d63bf948be6c295dc3a-1619332262', 'sha1': 'b0f0462dfa8fd68617a7e458f9f24586177b3ed2', 'resource': 'BFCA5D2DDD8840DC1F6C49309BBE1924', 'response_code': 1, 'scan_date': '2021-04-25 06:31:02', 'permalink': 'https://www.virustotal.com/gui/file/ef1bc7566ce113d6af42b9eecc63f0b69b3eeebcc2896d63bf948be6c295dc3a/detection/f-ef1bc7566ce113d6af42b9eecc63f0b69b3eeebcc2896d63bf948be6c295dc3a-1619332262', 'verbose_msg': 'Scan finished, information embedded', 'total': 67, 'positives': 41, 'sha256': 'ef1bc7566ce113d6af42b9eecc63f0b69b3eeebcc2896d63bf948be6c295dc3a', 'md5': 'bfca5d2ddd8840dc1f6c49309bbe1924'}\n"
     ]
    }
   ],
   "source": [
    "print(response.json())"
   ]
  },
  {
   "cell_type": "code",
   "execution_count": 14,
   "metadata": {
    "scrolled": true
   },
   "outputs": [
    {
     "name": "stdout",
     "output_type": "stream",
     "text": [
      "scans : {'Bkav': {'detected': True, 'version': '1.3.0.9899', 'result': 'W32.AIDetect.malware2', 'update': '20210419'}, 'Elastic': {'detected': False, 'version': '4.0.20', 'result': None, 'update': '20210414'}, 'DrWeb': {'detected': True, 'version': '7.0.49.9080', 'result': 'Trojan.PWS.Stealer.30159', 'update': '20210419'}, 'MicroWorld-eScan': {'detected': True, 'version': '14.0.409.0', 'result': 'Trojan.GenericKD.46081752', 'update': '20210419'}, 'FireEye': {'detected': True, 'version': '32.44.1.0', 'result': 'Generic.mg.e3959205680c3936', 'update': '20210419'}, 'CAT-QuickHeal': {'detected': True, 'version': '14.00', 'result': 'Trojan.Agent', 'update': '20210419'}, 'McAfee': {'detected': True, 'version': '6.0.6.653', 'result': 'Artemis!E3959205680C', 'update': '20210419'}, 'Cylance': {'detected': True, 'version': '2.3.1.101', 'result': 'Unsafe', 'update': '20210419'}, 'Zillya': {'detected': False, 'version': '2.0.0.4345', 'result': None, 'update': '20210419'}, 'SUPERAntiSpyware': {'detected': False, 'version': '5.6.0.1032', 'result': None, 'update': '20210416'}, 'Sangfor': {'detected': True, 'version': '2.9.0.0', 'result': 'Trojan.Win32.Ymacco.AB01', 'update': '20210416'}, 'K7AntiVirus': {'detected': True, 'version': '11.176.36963', 'result': 'Trojan ( 0057aadb1 )', 'update': '20210419'}, 'Alibaba': {'detected': True, 'version': '0.3.0.5', 'result': 'TrojanDropper:Win32/ZipIt.33635f49', 'update': '20190527'}, 'K7GW': {'detected': True, 'version': '11.176.36964', 'result': 'Trojan ( 0057aadb1 )', 'update': '20210419'}, 'CrowdStrike': {'detected': True, 'version': '1.0', 'result': 'win/malicious_confidence_100% (W)', 'update': '20210203'}, 'BitDefenderTheta': {'detected': False, 'version': '7.2.37796.0', 'result': None, 'update': '20210414'}, 'Cyren': {'detected': False, 'version': '6.3.0.2', 'result': None, 'update': '20210419'}, 'Symantec': {'detected': True, 'version': '1.14.0.0', 'result': 'ML.Attribute.HighConfidence', 'update': '20210419'}, 'ESET-NOD32': {'detected': True, 'version': '23157', 'result': 'a variant of Win32/Packed.7zip.AE suspicious', 'update': '20210419'}, 'APEX': {'detected': True, 'version': '6.155', 'result': 'Malicious', 'update': '20210419'}, 'Avast': {'detected': True, 'version': '21.1.5827.0', 'result': 'Win32:Malware-gen', 'update': '20210419'}, 'ClamAV': {'detected': False, 'version': '0.103.2.0', 'result': None, 'update': '20210419'}, 'Kaspersky': {'detected': True, 'version': '21.0.1.45', 'result': 'Trojan-Dropper.Win32.ZipIt.b', 'update': '20210419'}, 'BitDefender': {'detected': True, 'version': '7.2', 'result': 'Trojan.GenericKD.46081752', 'update': '20210419'}, 'NANO-Antivirus': {'detected': True, 'version': '1.0.146.25279', 'result': 'Trojan.Win32.Stealer.ityjae', 'update': '20210419'}, 'AegisLab': {'detected': True, 'version': '4.2', 'result': 'Trojan.Win32.ZipIt.b!c', 'update': '20210419'}, 'Rising': {'detected': True, 'version': '25.0.0.26', 'result': 'Trojan.HiddenRun/SFX!1.D2BC (CLASSIC)', 'update': '20210419'}, 'Ad-Aware': {'detected': True, 'version': '3.0.16.117', 'result': 'Trojan.GenericKD.46081752', 'update': '20210419'}, 'TACHYON': {'detected': False, 'version': '2021-04-19.02', 'result': None, 'update': '20210419'}, 'Emsisoft': {'detected': True, 'version': '2018.12.0.1641', 'result': 'Trojan.GenericKD.46081752 (B)', 'update': '20210419'}, 'Comodo': {'detected': True, 'version': '33453', 'result': 'Malware@#2sykijlczj181', 'update': '20210419'}, 'F-Secure': {'detected': False, 'version': '12.0.86.52', 'result': None, 'update': '20210331'}, 'Baidu': {'detected': False, 'version': '1.0.0.2', 'result': None, 'update': '20190318'}, 'VIPRE': {'detected': True, 'version': '91946', 'result': 'Trojan.Win32.Generic!BT', 'update': '20210419'}, 'TrendMicro': {'detected': False, 'version': '11.0.0.1006', 'result': None, 'update': '20210330'}, 'McAfee-GW-Edition': {'detected': True, 'version': 'v2019.1.2+3728', 'result': 'Artemis!Trojan', 'update': '20210419'}, 'CMC': {'detected': False, 'version': '2.10.2019.1', 'result': None, 'update': '20210327'}, 'Sophos': {'detected': True, 'version': '1.0.2.0', 'result': 'Mal/Generic-S', 'update': '20210419'}, 'Paloalto': {'detected': True, 'version': '1.0', 'result': 'generic.ml', 'update': '20210419'}, 'GData': {'detected': True, 'version': 'A:25.29371B:27.22715', 'result': 'Trojan.GenericKD.46081752', 'update': '20210419'}, 'Jiangmin': {'detected': True, 'version': '16.0.100', 'result': 'TrojanDropper.Agent.gifx', 'update': '20210418'}, 'eGambit': {'detected': True, 'version': None, 'result': 'PE.Heur.InvalidSig', 'update': '20210419'}, 'Avira': {'detected': False, 'version': '8.3.3.12', 'result': None, 'update': '20210419'}, 'Antiy-AVL': {'detected': False, 'version': '3.0.0.1', 'result': None, 'update': '20210419'}, 'Kingsoft': {'detected': True, 'version': '2017.9.26.565', 'result': 'Win32.Troj.Generic.zp.(kcloud)', 'update': '20210419'}, 'Gridinsoft': {'detected': True, 'version': '1.0.37.128', 'result': 'Trojan.Win32.Agent.cc', 'update': '20210419'}, 'Arcabit': {'detected': True, 'version': '1.0.0.881', 'result': 'Trojan.Generic.D2BF26D8', 'update': '20210419'}, 'ViRobot': {'detected': False, 'version': '2014.3.20.0', 'result': None, 'update': '20210419'}, 'ZoneAlarm': {'detected': False, 'version': '1.0', 'result': None, 'update': '20210419'}, 'Microsoft': {'detected': True, 'version': '1.1.18000.5', 'result': 'Trojan:Win32/Ymacco.AB01', 'update': '20210419'}, 'Cynet': {'detected': False, 'version': '4.0.0.27', 'result': None, 'update': '20210412'}, 'AhnLab-V3': {'detected': True, 'version': '3.19.7.10132', 'result': 'PUP/Win.Agent.C4413262', 'update': '20210419'}, 'Acronis': {'detected': False, 'version': '1.1.1.81', 'result': None, 'update': '20210211'}, 'VBA32': {'detected': True, 'version': '5.0.0', 'result': 'TrojanPSW.Stealer', 'update': '20210419'}, 'ALYac': {'detected': True, 'version': '1.1.3.1', 'result': 'Trojan.GenericKD.46081752', 'update': '20210419'}, 'MAX': {'detected': False, 'version': '2019.9.16.1', 'result': None, 'update': '20210419'}, 'Malwarebytes': {'detected': True, 'version': '4.2.2.27', 'result': 'Trojan.Dropper.7zsfx', 'update': '20210419'}, 'Zoner': {'detected': False, 'version': '0.0.0.0', 'result': None, 'update': '20210419'}, 'TrendMicro-HouseCall': {'detected': True, 'version': '10.0.0.1040', 'result': 'TROJ_GEN.R002H0CDI21', 'update': '20210419'}, 'Tencent': {'detected': False, 'version': '1.0.0.1', 'result': None, 'update': '20210419'}, 'Yandex': {'detected': False, 'version': '5.5.2.24', 'result': None, 'update': '20210415'}, 'Ikarus': {'detected': False, 'version': '0.1.5.2', 'result': None, 'update': '20210419'}, 'MaxSecure': {'detected': True, 'version': '1.0.0.1', 'result': 'Trojan.Malware.116819992.susgen', 'update': '20210417'}, 'Fortinet': {'detected': True, 'version': '6.2.142.0', 'result': 'Riskware/Agent', 'update': '20210419'}, 'Webroot': {'detected': True, 'version': '1.0.0.403', 'result': 'W32.Trojan.Gen', 'update': '20210419'}, 'AVG': {'detected': True, 'version': '21.1.5827.0', 'result': 'Win32:Malware-gen', 'update': '20210419'}, 'Panda': {'detected': True, 'version': '4.6.4.2', 'result': 'Trj/CI.A', 'update': '20210419'}, 'Qihoo-360': {'detected': True, 'version': '1.0.0.1120', 'result': 'Trojan.Generic', 'update': '20210419'}}\n",
      "scan_id : 01ad122315fff76fde6444be3cb0be1ffa1acc7f56c07840c1e38ad90b374732-1618848254\n",
      "sha1 : 3b196eed10d3ef00d6ead56639c11650b56e83a7\n",
      "resource : E3959205680C393688204BB538DE523C\n",
      "response_code : 1\n",
      "scan_date : 2021-04-19 16:04:14\n",
      "permalink : https://www.virustotal.com/gui/file/01ad122315fff76fde6444be3cb0be1ffa1acc7f56c07840c1e38ad90b374732/detection/f-01ad122315fff76fde6444be3cb0be1ffa1acc7f56c07840c1e38ad90b374732-1618848254\n",
      "verbose_msg : Scan finished, information embedded\n",
      "total : 68\n",
      "positives : 46\n",
      "sha256 : 01ad122315fff76fde6444be3cb0be1ffa1acc7f56c07840c1e38ad90b374732\n",
      "md5 : e3959205680c393688204bb538de523c\n"
     ]
    }
   ],
   "source": [
    "data = response.json()\n",
    "\n",
    "for i in data:\n",
    "    print(i, \":\", data[i])       "
   ]
  },
  {
   "cell_type": "code",
   "execution_count": 5,
   "metadata": {},
   "outputs": [
    {
     "name": "stdout",
     "output_type": "stream",
     "text": [
      "scans\n",
      "scan_id\n",
      "sha1\n",
      "resource\n",
      "response_code\n",
      "scan_date\n",
      "permalink\n",
      "verbose_msg\n",
      "total\n",
      "positives\n",
      "sha256\n",
      "md5\n"
     ]
    }
   ],
   "source": [
    "for i in data:\n",
    "    print(i)    "
   ]
  },
  {
   "cell_type": "code",
   "execution_count": 15,
   "metadata": {},
   "outputs": [
    {
     "name": "stdout",
     "output_type": "stream",
     "text": [
      "46\n",
      "68\n"
     ]
    }
   ],
   "source": [
    "malicious = data['positives']\n",
    "total = data['total']\n",
    "\n",
    "print(malicious)\n",
    "print(total)"
   ]
  }
 ],
 "metadata": {
  "kernelspec": {
   "display_name": "Python 3",
   "language": "python",
   "name": "python3"
  },
  "language_info": {
   "codemirror_mode": {
    "name": "ipython",
    "version": 3
   },
   "file_extension": ".py",
   "mimetype": "text/x-python",
   "name": "python",
   "nbconvert_exporter": "python",
   "pygments_lexer": "ipython3",
   "version": "3.8.5"
  }
 },
 "nbformat": 4,
 "nbformat_minor": 4
}
