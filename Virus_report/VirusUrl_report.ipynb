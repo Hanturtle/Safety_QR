{
 "cells": [
  {
   "cell_type": "code",
   "execution_count": 23,
   "metadata": {},
   "outputs": [
    {
     "name": "stdout",
     "output_type": "stream",
     "text": [
      "<Response [200]>\n"
     ]
    }
   ],
   "source": [
    "import requests\n",
    "\n",
    "url = 'https://www.virustotal.com/vtapi/v2/url/report'\n",
    "mykey = '5b515349e942c36fdb06b793b6fe2f7f0841926a181db41654e996046d0e745c'\n",
    "URL = \"naver.com\"\n",
    "\n",
    "params = {'apikey': mykey, 'resource': URL}\n",
    "response = requests.get(url, params=params)\n",
    "\n",
    "print(response)"
   ]
  },
  {
   "cell_type": "code",
   "execution_count": 25,
   "metadata": {
    "scrolled": true
   },
   "outputs": [
    {
     "name": "stdout",
     "output_type": "stream",
     "text": [
      "{'scan_id': '9735e1a5cb2c7ef05687c2f467bd1b325548a0b431b8d7c905af0f0b0436807f-1618999059', 'resource': 'naver.com', 'url': 'http://naver.com/', 'response_code': 1, 'scan_date': '2021-04-21 09:57:39', 'permalink': 'https://www.virustotal.com/gui/url/9735e1a5cb2c7ef05687c2f467bd1b325548a0b431b8d7c905af0f0b0436807f/detection/u-9735e1a5cb2c7ef05687c2f467bd1b325548a0b431b8d7c905af0f0b0436807f-1618999059', 'verbose_msg': 'Scan finished, scan information embedded in this object', 'filescan_id': None, 'positives': 0, 'total': 87, 'scans': {'CMC Threat Intelligence': {'detected': False, 'result': 'clean site'}, 'VX Vault': {'detected': False, 'result': 'clean site'}, 'Armis': {'detected': False, 'result': 'clean site'}, 'Comodo Valkyrie Verdict': {'detected': False, 'result': 'clean site'}, 'PhishLabs': {'detected': False, 'result': 'unrated site'}, 'K7AntiVirus': {'detected': False, 'result': 'clean site'}, 'CINS Army': {'detected': False, 'result': 'clean site'}, 'Cyren': {'detected': False, 'result': 'clean site'}, 'Quttera': {'detected': False, 'result': 'clean site'}, 'BlockList': {'detected': False, 'result': 'clean site'}, 'OpenPhish': {'detected': False, 'result': 'clean site'}, 'Feodo Tracker': {'detected': False, 'result': 'clean site'}, 'Web Security Guard': {'detected': False, 'result': 'clean site'}, 'Scantitan': {'detected': False, 'result': 'clean site'}, 'AlienVault': {'detected': False, 'result': 'clean site'}, 'Sophos': {'detected': False, 'result': 'clean site'}, 'Phishtank': {'detected': False, 'result': 'clean site'}, 'EonScope': {'detected': False, 'result': 'clean site'}, 'Cyan': {'detected': False, 'result': 'unrated site'}, 'Spam404': {'detected': False, 'result': 'clean site'}, 'SecureBrain': {'detected': False, 'result': 'clean site'}, 'Hoplite Industries': {'detected': False, 'result': 'clean site'}, 'CRDF': {'detected': False, 'result': 'clean site'}, 'Rising': {'detected': False, 'result': 'clean site'}, 'Fortinet': {'detected': False, 'result': 'clean site'}, 'alphaMountain.ai': {'detected': False, 'result': 'clean site'}, 'Virusdie External Site Scan': {'detected': False, 'result': 'clean site'}, 'Artists Against 419': {'detected': False, 'result': 'clean site'}, 'Google Safebrowsing': {'detected': False, 'result': 'clean site'}, 'ADMINUSLabs': {'detected': False, 'result': 'clean site'}, 'CyberCrime': {'detected': False, 'result': 'clean site'}, 'AutoShun': {'detected': False, 'result': 'unrated site'}, 'Trustwave': {'detected': False, 'result': 'clean site'}, 'AICC (MONITORAPP)': {'detected': False, 'result': 'clean site'}, 'CyRadar': {'detected': False, 'result': 'clean site'}, 'Dr.Web': {'detected': False, 'result': 'clean site'}, 'Emsisoft': {'detected': False, 'result': 'clean site'}, 'Webroot': {'detected': False, 'result': 'clean site'}, 'Avira': {'detected': False, 'result': 'clean site'}, 'Cisco Talos IP Blacklist': {'detected': False, 'result': 'clean site'}, 'securolytics': {'detected': False, 'result': 'clean site'}, 'Antiy-AVL': {'detected': False, 'result': 'clean site'}, 'AegisLab WebGuard': {'detected': False, 'result': 'clean site'}, 'Quick Heal': {'detected': False, 'result': 'clean site'}, 'CLEAN MX': {'detected': False, 'result': 'clean site'}, 'DNS8': {'detected': False, 'result': 'clean site'}, 'benkow.cc': {'detected': False, 'result': 'clean site'}, 'EmergingThreats': {'detected': False, 'result': 'clean site'}, 'Yandex Safebrowsing': {'detected': False, 'result': 'clean site', 'detail': 'http://yandex.com/infected?l10n=en&url=http://naver.com/'}, 'MalwareDomainList': {'detected': False, 'result': 'clean site', 'detail': 'http://www.malwaredomainlist.com/mdl.php?search=naver.com'}, 'Lumu': {'detected': False, 'result': 'unrated site'}, 'zvelo': {'detected': False, 'result': 'clean site'}, 'Kaspersky': {'detected': False, 'result': 'clean site'}, 'Sucuri SiteCheck': {'detected': False, 'result': 'clean site'}, 'desenmascara.me': {'detected': False, 'result': 'clean site'}, 'URLhaus': {'detected': False, 'result': 'clean site'}, 'PREBYTES': {'detected': False, 'result': 'clean site'}, 'StopForumSpam': {'detected': False, 'result': 'clean site'}, 'Blueliv': {'detected': False, 'result': 'clean site'}, 'Netcraft': {'detected': False, 'result': 'unrated site'}, 'ZeroCERT': {'detected': False, 'result': 'clean site'}, 'Phishing Database': {'detected': False, 'result': 'clean site'}, 'MalwarePatrol': {'detected': False, 'result': 'clean site'}, 'MalBeacon': {'detected': False, 'result': 'clean site'}, 'Sangfor': {'detected': False, 'result': 'clean site'}, 'IPsum': {'detected': False, 'result': 'clean site'}, 'Spamhaus': {'detected': False, 'result': 'clean site'}, 'Malwared': {'detected': False, 'result': 'clean site'}, 'BitDefender': {'detected': False, 'result': 'clean site'}, 'GreenSnow': {'detected': False, 'result': 'clean site'}, 'G-Data': {'detected': False, 'result': 'clean site'}, 'StopBadware': {'detected': False, 'result': 'unrated site'}, 'SCUMWARE.org': {'detected': False, 'result': 'clean site'}, 'malwares.com URL checker': {'detected': False, 'result': 'clean site'}, 'NotMining': {'detected': False, 'result': 'unrated site'}, 'Forcepoint ThreatSeeker': {'detected': False, 'result': 'clean site'}, 'Certego': {'detected': False, 'result': 'clean site'}, 'ESET': {'detected': False, 'result': 'clean site'}, 'Threatsourcing': {'detected': False, 'result': 'clean site'}, 'MalSilo': {'detected': False, 'result': 'clean site'}, 'Nucleon': {'detected': False, 'result': 'clean site'}, 'BADWARE.INFO': {'detected': False, 'result': 'clean site'}, 'ThreatHive': {'detected': False, 'result': 'clean site'}, 'FraudScore': {'detected': False, 'result': 'clean site'}, 'Tencent': {'detected': False, 'result': 'clean site'}, 'Bfore.Ai PreCrime': {'detected': False, 'result': 'clean site'}, 'Baidu-International': {'detected': False, 'result': 'clean site'}}}\n"
     ]
    }
   ],
   "source": [
    "print(response.json())"
   ]
  },
  {
   "cell_type": "code",
   "execution_count": 26,
   "metadata": {
    "scrolled": true
   },
   "outputs": [
    {
     "name": "stdout",
     "output_type": "stream",
     "text": [
      "scan_id : 9735e1a5cb2c7ef05687c2f467bd1b325548a0b431b8d7c905af0f0b0436807f-1618999059\n",
      "resource : naver.com\n",
      "url : http://naver.com/\n",
      "response_code : 1\n",
      "scan_date : 2021-04-21 09:57:39\n",
      "permalink : https://www.virustotal.com/gui/url/9735e1a5cb2c7ef05687c2f467bd1b325548a0b431b8d7c905af0f0b0436807f/detection/u-9735e1a5cb2c7ef05687c2f467bd1b325548a0b431b8d7c905af0f0b0436807f-1618999059\n",
      "verbose_msg : Scan finished, scan information embedded in this object\n",
      "filescan_id : None\n",
      "positives : 0\n",
      "total : 87\n",
      "scans : {'CMC Threat Intelligence': {'detected': False, 'result': 'clean site'}, 'VX Vault': {'detected': False, 'result': 'clean site'}, 'Armis': {'detected': False, 'result': 'clean site'}, 'Comodo Valkyrie Verdict': {'detected': False, 'result': 'clean site'}, 'PhishLabs': {'detected': False, 'result': 'unrated site'}, 'K7AntiVirus': {'detected': False, 'result': 'clean site'}, 'CINS Army': {'detected': False, 'result': 'clean site'}, 'Cyren': {'detected': False, 'result': 'clean site'}, 'Quttera': {'detected': False, 'result': 'clean site'}, 'BlockList': {'detected': False, 'result': 'clean site'}, 'OpenPhish': {'detected': False, 'result': 'clean site'}, 'Feodo Tracker': {'detected': False, 'result': 'clean site'}, 'Web Security Guard': {'detected': False, 'result': 'clean site'}, 'Scantitan': {'detected': False, 'result': 'clean site'}, 'AlienVault': {'detected': False, 'result': 'clean site'}, 'Sophos': {'detected': False, 'result': 'clean site'}, 'Phishtank': {'detected': False, 'result': 'clean site'}, 'EonScope': {'detected': False, 'result': 'clean site'}, 'Cyan': {'detected': False, 'result': 'unrated site'}, 'Spam404': {'detected': False, 'result': 'clean site'}, 'SecureBrain': {'detected': False, 'result': 'clean site'}, 'Hoplite Industries': {'detected': False, 'result': 'clean site'}, 'CRDF': {'detected': False, 'result': 'clean site'}, 'Rising': {'detected': False, 'result': 'clean site'}, 'Fortinet': {'detected': False, 'result': 'clean site'}, 'alphaMountain.ai': {'detected': False, 'result': 'clean site'}, 'Virusdie External Site Scan': {'detected': False, 'result': 'clean site'}, 'Artists Against 419': {'detected': False, 'result': 'clean site'}, 'Google Safebrowsing': {'detected': False, 'result': 'clean site'}, 'ADMINUSLabs': {'detected': False, 'result': 'clean site'}, 'CyberCrime': {'detected': False, 'result': 'clean site'}, 'AutoShun': {'detected': False, 'result': 'unrated site'}, 'Trustwave': {'detected': False, 'result': 'clean site'}, 'AICC (MONITORAPP)': {'detected': False, 'result': 'clean site'}, 'CyRadar': {'detected': False, 'result': 'clean site'}, 'Dr.Web': {'detected': False, 'result': 'clean site'}, 'Emsisoft': {'detected': False, 'result': 'clean site'}, 'Webroot': {'detected': False, 'result': 'clean site'}, 'Avira': {'detected': False, 'result': 'clean site'}, 'Cisco Talos IP Blacklist': {'detected': False, 'result': 'clean site'}, 'securolytics': {'detected': False, 'result': 'clean site'}, 'Antiy-AVL': {'detected': False, 'result': 'clean site'}, 'AegisLab WebGuard': {'detected': False, 'result': 'clean site'}, 'Quick Heal': {'detected': False, 'result': 'clean site'}, 'CLEAN MX': {'detected': False, 'result': 'clean site'}, 'DNS8': {'detected': False, 'result': 'clean site'}, 'benkow.cc': {'detected': False, 'result': 'clean site'}, 'EmergingThreats': {'detected': False, 'result': 'clean site'}, 'Yandex Safebrowsing': {'detected': False, 'result': 'clean site', 'detail': 'http://yandex.com/infected?l10n=en&url=http://naver.com/'}, 'MalwareDomainList': {'detected': False, 'result': 'clean site', 'detail': 'http://www.malwaredomainlist.com/mdl.php?search=naver.com'}, 'Lumu': {'detected': False, 'result': 'unrated site'}, 'zvelo': {'detected': False, 'result': 'clean site'}, 'Kaspersky': {'detected': False, 'result': 'clean site'}, 'Sucuri SiteCheck': {'detected': False, 'result': 'clean site'}, 'desenmascara.me': {'detected': False, 'result': 'clean site'}, 'URLhaus': {'detected': False, 'result': 'clean site'}, 'PREBYTES': {'detected': False, 'result': 'clean site'}, 'StopForumSpam': {'detected': False, 'result': 'clean site'}, 'Blueliv': {'detected': False, 'result': 'clean site'}, 'Netcraft': {'detected': False, 'result': 'unrated site'}, 'ZeroCERT': {'detected': False, 'result': 'clean site'}, 'Phishing Database': {'detected': False, 'result': 'clean site'}, 'MalwarePatrol': {'detected': False, 'result': 'clean site'}, 'MalBeacon': {'detected': False, 'result': 'clean site'}, 'Sangfor': {'detected': False, 'result': 'clean site'}, 'IPsum': {'detected': False, 'result': 'clean site'}, 'Spamhaus': {'detected': False, 'result': 'clean site'}, 'Malwared': {'detected': False, 'result': 'clean site'}, 'BitDefender': {'detected': False, 'result': 'clean site'}, 'GreenSnow': {'detected': False, 'result': 'clean site'}, 'G-Data': {'detected': False, 'result': 'clean site'}, 'StopBadware': {'detected': False, 'result': 'unrated site'}, 'SCUMWARE.org': {'detected': False, 'result': 'clean site'}, 'malwares.com URL checker': {'detected': False, 'result': 'clean site'}, 'NotMining': {'detected': False, 'result': 'unrated site'}, 'Forcepoint ThreatSeeker': {'detected': False, 'result': 'clean site'}, 'Certego': {'detected': False, 'result': 'clean site'}, 'ESET': {'detected': False, 'result': 'clean site'}, 'Threatsourcing': {'detected': False, 'result': 'clean site'}, 'MalSilo': {'detected': False, 'result': 'clean site'}, 'Nucleon': {'detected': False, 'result': 'clean site'}, 'BADWARE.INFO': {'detected': False, 'result': 'clean site'}, 'ThreatHive': {'detected': False, 'result': 'clean site'}, 'FraudScore': {'detected': False, 'result': 'clean site'}, 'Tencent': {'detected': False, 'result': 'clean site'}, 'Bfore.Ai PreCrime': {'detected': False, 'result': 'clean site'}, 'Baidu-International': {'detected': False, 'result': 'clean site'}}\n"
     ]
    }
   ],
   "source": [
    "data = response.json()\n",
    "\n",
    "for i in data:\n",
    "    print(i, \":\", data[i])       "
   ]
  },
  {
   "cell_type": "code",
   "execution_count": 27,
   "metadata": {},
   "outputs": [
    {
     "name": "stdout",
     "output_type": "stream",
     "text": [
      "scan_id\n",
      "resource\n",
      "url\n",
      "response_code\n",
      "scan_date\n",
      "permalink\n",
      "verbose_msg\n",
      "filescan_id\n",
      "positives\n",
      "total\n",
      "scans\n"
     ]
    }
   ],
   "source": [
    "for i in data:\n",
    "    print(i)    "
   ]
  },
  {
   "cell_type": "code",
   "execution_count": 28,
   "metadata": {},
   "outputs": [
    {
     "name": "stdout",
     "output_type": "stream",
     "text": [
      "0\n",
      "87\n"
     ]
    }
   ],
   "source": [
    "malicious = data['positives']\n",
    "total = data['total']\n",
    "\n",
    "print(malicious)\n",
    "print(total)"
   ]
  }
 ],
 "metadata": {
  "kernelspec": {
   "display_name": "Python 3",
   "language": "python",
   "name": "python3"
  },
  "language_info": {
   "codemirror_mode": {
    "name": "ipython",
    "version": 3
   },
   "file_extension": ".py",
   "mimetype": "text/x-python",
   "name": "python",
   "nbconvert_exporter": "python",
   "pygments_lexer": "ipython3",
   "version": "3.8.5"
  }
 },
 "nbformat": 4,
 "nbformat_minor": 4
}
