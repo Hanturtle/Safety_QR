{
 "cells": [
  {
   "cell_type": "code",
   "execution_count": 8,
   "metadata": {},
   "outputs": [
    {
     "name": "stdout",
     "output_type": "stream",
     "text": [
      "41\n",
      "67\n"
     ]
    }
   ],
   "source": [
    "import requests\n",
    "\n",
    "url = 'https://www.virustotal.com/vtapi/v2/file/report'\n",
    "mykey = '5b515349e942c36fdb06b793b6fe2f7f0841926a181db41654e996046d0e745c'\n",
    "\n",
    "# 악성코드파일 : 안드로이드에서 받기 -> 악성코드를 MD5로 변환\n",
    "MD5 = \"9F7D893E2054612E7644B4EC4D2D3B22\" \n",
    "\n",
    "params = {'apikey': mykey, 'resource': MD5}\n",
    "response = requests.get(url, params=params)\n",
    "\n",
    "data = response.json()\n",
    "\n",
    "malicious = data['positives']\n",
    "total = data['total']\n",
    "\n",
    "print(malicious)\n",
    "print(total)"
   ]
  }
 ],
 "metadata": {
  "kernelspec": {
   "display_name": "Python 3",
   "language": "python",
   "name": "python3"
  },
  "language_info": {
   "codemirror_mode": {
    "name": "ipython",
    "version": 3
   },
   "file_extension": ".py",
   "mimetype": "text/x-python",
   "name": "python",
   "nbconvert_exporter": "python",
   "pygments_lexer": "ipython3",
   "version": "3.8.5"
  }
 },
 "nbformat": 4,
 "nbformat_minor": 4
}
