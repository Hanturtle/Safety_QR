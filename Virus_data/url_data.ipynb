{
 "cells": [
  {
   "cell_type": "code",
   "execution_count": 3,
   "metadata": {},
   "outputs": [
    {
     "name": "stdout",
     "output_type": "stream",
     "text": [
      "2\n",
      "88\n"
     ]
    }
   ],
   "source": [
    "import requests\n",
    "\n",
    "url = 'https://www.virustotal.com/vtapi/v2/url/report'\n",
    "mykey = '5b515349e942c36fdb06b793b6fe2f7f0841926a181db41654e996046d0e745c'\n",
    "\n",
    "# URL : 안드로이드에서 받기 -> 소켓통신 구현 필요\n",
    "URL = \"http:// cdn.discordapp.com/attachments/830514082817245214/83085764648684\"\n",
    "\n",
    "params = {'apikey': mykey, 'resource': URL}\n",
    "response = requests.get(url, params=params)\n",
    "\n",
    "data = response.json()\n",
    "\n",
    "# malicious, total : 안드로이드로 보내기 -> 소켓통신 구현 필요\n",
    "malicious = data['positives']\n",
    "total = data['total']\n",
    "\n",
    "print(malicious)\n",
    "print(total)"
   ]
  }
 ],
 "metadata": {
  "kernelspec": {
   "display_name": "Python 3",
   "language": "python",
   "name": "python3"
  },
  "language_info": {
   "codemirror_mode": {
    "name": "ipython",
    "version": 3
   },
   "file_extension": ".py",
   "mimetype": "text/x-python",
   "name": "python",
   "nbconvert_exporter": "python",
   "pygments_lexer": "ipython3",
   "version": "3.8.5"
  }
 },
 "nbformat": 4,
 "nbformat_minor": 4
}
